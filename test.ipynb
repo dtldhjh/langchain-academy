{
 "cells": [
  {
   "cell_type": "code",
   "execution_count": 2,
   "id": "2d490f09",
   "metadata": {},
   "outputs": [
    {
     "name": "stderr",
     "output_type": "stream",
     "text": [
      "/var/folders/f0/fvl7w9_s4731wyfz85f481tm0000gn/T/ipykernel_54787/1154320987.py:25: LangChainDeprecationWarning: The class `ChatOpenAI` was deprecated in LangChain 0.0.10 and will be removed in 1.0. An updated version of the class exists in the :class:`~langchain-openai package and should be used instead. To use it run `pip install -U :class:`~langchain-openai` and import as `from :class:`~langchain_openai import ChatOpenAI``.\n",
      "  chat_llm = ChatOpenAI(api_key=encode_jwt_token(ak, sk),\n"
     ]
    }
   ],
   "source": [
    "from openai import OpenAI \n",
    "import time\n",
    "import jwt\n",
    "import os\n",
    "from dotenv import load_dotenv,find_dotenv\n",
    "from langchain.chat_models import ChatOpenAI\n",
    "load_dotenv(find_dotenv())\n",
    "\n",
    "def encode_jwt_token(ak, sk):\n",
    "    headers = {\n",
    "        \"alg\": \"HS256\",\n",
    "        \"typ\": \"JWT\"\n",
    "    }\n",
    "    payload = {\n",
    "        \"iss\": ak,\n",
    "        \"exp\": int(time.time()) + 3600*24*30, # 填写您期望的有效时间\n",
    "        \"nbf\": int(time.time()) # 填写您期望的生效时间\n",
    "    }\n",
    "    token = jwt.encode(payload, sk, headers=headers)\n",
    "    return token\n",
    "\n",
    "ak = os.getenv('ak')\n",
    "sk = os.getenv('sk')\n",
    "\n",
    "chat_llm = ChatOpenAI(api_key=encode_jwt_token(ak, sk),\n",
    "    base_url=\"https://api.sensenova.cn/compatible-mode/v1/\",\n",
    "    model_name=\"DeepSeek-R1\",)"
   ]
  },
  {
   "cell_type": "code",
   "execution_count": 3,
   "id": "811cf18a",
   "metadata": {},
   "outputs": [
    {
     "data": {
      "text/plain": [
       "AIMessage(content=\"\\n\\nHello, World! 🌍 It looks like you're getting started with programming—classic first step! 😊 Is there something specific you'd like to explore or build? Let me know how I can help!\", additional_kwargs={}, response_metadata={'token_usage': {'completion_tokens': 184, 'prompt_tokens': 3, 'total_tokens': 187, 'completion_tokens_details': None, 'prompt_tokens_details': None, 'knowledge_tokens': 0}, 'model_name': 'DeepSeek-R1', 'system_fingerprint': None, 'finish_reason': 'stop', 'logprobs': None}, id='run-5c1f6b73-188c-4f5c-b62b-d7770901e2c2-0')"
      ]
     },
     "execution_count": 3,
     "metadata": {},
     "output_type": "execute_result"
    }
   ],
   "source": [
    "from langchain_core.messages import HumanMessage\n",
    "# Create a message\n",
    "msg = HumanMessage(content=\"Hello world\", name=\"Lance\")\n",
    "\n",
    "# Message list\n",
    "messages = [msg]\n",
    "\n",
    "# Invoke the model with a list of messages \n",
    "chat_llm.invoke(messages)"
   ]
  },
  {
   "cell_type": "code",
   "execution_count": null,
   "id": "4bc466d6",
   "metadata": {},
   "outputs": [],
   "source": []
  }
 ],
 "metadata": {
  "kernelspec": {
   "display_name": "langchain_env",
   "language": "python",
   "name": "python3"
  },
  "language_info": {
   "codemirror_mode": {
    "name": "ipython",
    "version": 3
   },
   "file_extension": ".py",
   "mimetype": "text/x-python",
   "name": "python",
   "nbconvert_exporter": "python",
   "pygments_lexer": "ipython3",
   "version": "3.11.11"
  }
 },
 "nbformat": 4,
 "nbformat_minor": 5
}
